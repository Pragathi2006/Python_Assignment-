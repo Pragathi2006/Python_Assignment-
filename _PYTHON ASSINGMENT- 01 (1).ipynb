{
 "cells": [
  {
   "cell_type": "code",
   "execution_count": 29,
   "id": "6d923cc3-2b96-4ae9-96f0-9eae25d83ea4",
   "metadata": {},
   "outputs": [
    {
     "name": "stdin",
     "output_type": "stream",
     "text": [
      "enter a number: 10\n",
      "enter a number: 3\n"
     ]
    },
    {
     "name": "stdout",
     "output_type": "stream",
     "text": [
      "addition: 13\n",
      "subtraction: 7\n",
      "multiplication: 30\n",
      "division: 3.3333333333333335\n",
      "modulus: 1\n",
      "exponential: 1000\n",
      "floor division: 3\n"
     ]
    }
   ],
   "source": [
    "#Program:1-arithmetic operators\n",
    "a=int(input(\"enter a number:\"))\n",
    "b=int(input(\"enter a number:\"))\n",
    "print(\"addition:\",a+b)# addition opertor\n",
    "print(\"subtraction:\",a-b)# subtraction opertor\n",
    "print(\"multiplication:\",a*b)# multiplication opertor\n",
    "print(\"division:\",a/b)# division opertor\n",
    "print(\"modulus:\",a%b)# modulus opertor\n",
    "print(\"exponential:\",a**b)# exponential opertor\n",
    "print(\"floor division:\",a//b)# int division\n",
    "\n"
   ]
  },
  {
   "cell_type": "code",
   "execution_count": 35,
   "id": "da581b6c-6a70-42e2-99a7-0ead6c1d516d",
   "metadata": {},
   "outputs": [
    {
     "name": "stdin",
     "output_type": "stream",
     "text": [
      "enter first number 10\n",
      "enter second number 20\n"
     ]
    },
    {
     "name": "stdout",
     "output_type": "stream",
     "text": [
      "a is lesser than b\n"
     ]
    }
   ],
   "source": [
    "#Program:2-comparsion opertors\n",
    "a=int(input(\"enter first number\"))\n",
    "b=int(input(\"enter second number\"))\n",
    "if a>b:# greater opertor\n",
    "   print(\"a is greater than b\")\n",
    "elif a==b:# assigment opertor\n",
    "    print(\"a and b are equal\")\n",
    "elif a<=b:# lesser opertor with assigment opertor\n",
    "    print(\"a is lesser than b\")\n",
    "else:\n",
    "    print(\"do nothing\")"
   ]
  },
  {
   "cell_type": "code",
   "execution_count": 27,
   "id": "3525da73-f7bb-4179-806a-5cb520909a3b",
   "metadata": {},
   "outputs": [
    {
     "name": "stdout",
     "output_type": "stream",
     "text": [
      "False\n",
      "False\n",
      "True\n",
      "True\n",
      "True\n",
      "True\n",
      "False\n",
      "True\n",
      "False\n"
     ]
    }
   ],
   "source": [
    "#Program:3-logical opertors\n",
    "a=True\n",
    "b=False\n",
    "c=True\n",
    "print(a and b)#logical opertor and(*)\n",
    "print(b and a)\n",
    "print(a and c)\n",
    "print(a or b)#logical opertor or(+)\n",
    "print(b or a)\n",
    "print(a or c)\n",
    "print(not a)#logical opertor not(not)\n",
    "print(not b)\n",
    "print(not c)\n",
    "\n",
    "\n"
   ]
  },
  {
   "cell_type": "code",
   "execution_count": 5,
   "id": "d0d384ef-3fc3-4ba5-8940-fc1ff1f03872",
   "metadata": {},
   "outputs": [
    {
     "name": "stdin",
     "output_type": "stream",
     "text": [
      "enter the string pragathi\n"
     ]
    },
    {
     "name": "stdout",
     "output_type": "stream",
     "text": [
      "8\n",
      "p i\n",
      "ihtagarp\n",
      "PRAGATHI\n",
      "pragathi\n"
     ]
    }
   ],
   "source": [
    "#Program:4-string manipulation\n",
    "A=(input(\"enter the string\"))\n",
    "print(len(A))#length of string\n",
    "print(A[0],A[-1])#first and last character\n",
    "print(A[::-1])#reverse order\n",
    "print(A.upper())#uppercase\n",
    "print(A.lower())#lowercase"
   ]
  },
  {
   "cell_type": "code",
   "execution_count": 7,
   "id": "a008b817-426f-4594-bbe5-717e96987421",
   "metadata": {},
   "outputs": [
    {
     "name": "stdin",
     "output_type": "stream",
     "text": [
      "enter the name pragathi\n",
      "enter the age: 18\n"
     ]
    },
    {
     "name": "stdout",
     "output_type": "stream",
     "text": [
      "Hello pragathi your are 18 years old\n"
     ]
    }
   ],
   "source": [
    "#Program:5-string formatting\n",
    "name=input(\"enter the name\")\n",
    "age=int(input(\"enter the age:\"))\n",
    "print(\"Hello\",name,\"your are\",age,\"years old\")\n",
    "        "
   ]
  },
  {
   "cell_type": "code",
   "execution_count": 1,
   "id": "be7ffdb6-d536-4d5f-bf41-f86b640263bb",
   "metadata": {},
   "outputs": [
    {
     "name": "stdin",
     "output_type": "stream",
     "text": [
      "sentence: the seven wonders of world\n",
      "enter a word: wonders\n"
     ]
    },
    {
     "name": "stdout",
     "output_type": "stream",
     "text": [
      "10\n"
     ]
    }
   ],
   "source": [
    "# Program:6-substring search\n",
    "m=str(input(\"sentence:\"))\n",
    "n=str(input(\"enter a word:\"))\n",
    "print(m.index(n))"
   ]
  },
  {
   "cell_type": "code",
   "execution_count": 1,
   "id": "ae0dff33-9fdf-4c8d-9b41-4976dbddc2fd",
   "metadata": {},
   "outputs": [
    {
     "name": "stdin",
     "output_type": "stream",
     "text": [
      "enter the number 1: 1\n",
      "enter the number 2: 2\n",
      "enter the number 3: 3\n",
      "enter the number 4: 4\n",
      "enter the number 5: 5\n"
     ]
    },
    {
     "name": "stdout",
     "output_type": "stream",
     "text": [
      "[(1, 2, 3, 4)]\n",
      "10\n",
      "4\n",
      "1\n"
     ]
    }
   ],
   "source": [
    "#Program:7-list opertions\n",
    "a=int(input(\"enter the number 1:\"))\n",
    "b=int(input(\"enter the number 2:\"))\n",
    "c=int(input(\"enter the number 3:\"))\n",
    "d=int(input(\"enter the number 4:\"))\n",
    "e=int(input(\"enter the number 5:\"))\n",
    "f=(a,b,c,d)#CREATE list\n",
    "print([f])#\n",
    "print(sum(f))#sum of list \n",
    "print(max(f))#largest number\n",
    "print(min(f))#smallest number"
   ]
  },
  {
   "cell_type": "code",
   "execution_count": 11,
   "id": "e2d6879a-3186-4e56-9faa-368b0f1ed1c4",
   "metadata": {},
   "outputs": [
    {
     "name": "stdout",
     "output_type": "stream",
     "text": [
      "['apple', 'banana', 'dargon fruit', 'mango', 'custard apple']\n",
      "['apple', 'banana', 'dargon fruit', 'mango', 'custard apple', 'pineapple']\n",
      "['apple', 'dargon fruit', 'mango', 'custard apple', 'pineapple']\n"
     ]
    }
   ],
   "source": [
    "#Program:8-list manipulation\n",
    "fruits=[\"apple\",\"banana\",\"dargon fruit\",\"mango\",\"custard apple\"]\n",
    "print(fruits)\n",
    "fruits.append(\"pineapple\")#add one more fruit\n",
    "print(fruits)\n",
    "fruits.remove(\"banana\")#remove second fruit\n",
    "print(fruits)#updated list"
   ]
  },
  {
   "cell_type": "code",
   "execution_count": 7,
   "id": "0a71cd91-5862-413d-91ca-631736f6253e",
   "metadata": {},
   "outputs": [
    {
     "name": "stdin",
     "output_type": "stream",
     "text": [
      "Enter the number 1:  1\n",
      "Enter the number 2:  2\n",
      "Enter the number 3:  3\n",
      "Enter the number 4:  4\n",
      "Enter the number 5:  5\n"
     ]
    },
    {
     "name": "stdout",
     "output_type": "stream",
     "text": [
      "Ascending Order of the list:  [1, 2, 3, 4, 5]\n",
      "Descending Order of the list:  [5, 4, 3, 2, 1]\n"
     ]
    }
   ],
   "source": [
    "#Program:9-sorting a list\n",
    "A = int(input(\"Enter the number 1: \"))\n",
    "B = int(input(\"Enter the number 2: \"))\n",
    "C = int(input(\"Enter the number 3: \"))\n",
    "D = int(input(\"Enter the number 4: \"))\n",
    "E = int(input(\"Enter the number 5: \"))\n",
    "f = [A, B, C, D, E]\n",
    "f.sort()#sort the list in ascending order\n",
    "print(\"Ascending Order of the list: \", f)\n",
    "f.sort(reverse=True)#sort the list in descending order\n",
    "print(\"Descending Order of the list: \", f)"
   ]
  },
  {
   "cell_type": "code",
   "execution_count": 9,
   "id": "588f23e5-e1c4-449b-8cd4-151f341fd0ca",
   "metadata": {},
   "outputs": [
    {
     "name": "stdout",
     "output_type": "stream",
     "text": [
      "[1, 2, 3, 4, 5]\n",
      "[6, 7, 8, 9, 10]\n",
      "[2, 3, 4, 5, 6, 7]\n"
     ]
    }
   ],
   "source": [
    "#program 10:-list slicing \n",
    "NUMBERS=[1,2,3,4,5,6,7,8,9,10]\n",
    "print(numbers[:5])#f"
   ]
  },
  {
   "cell_type": "code",
   "execution_count": 29,
   "id": "a91efe53-75b0-4474-9947-e7f7200dc7e4",
   "metadata": {},
   "outputs": [
    {
     "name": "stdin",
     "output_type": "stream",
     "text": [
      "Enter student name: pragathi BR\n",
      "Enter score 1:  98\n",
      "Enter score 2:  99\n",
      "Enter score 3:  100\n",
      "Enter student name: prakruthi BR\n",
      "Enter score 1:  97\n",
      "Enter score 2:  100\n",
      "Enter score 3:  100\n",
      "Enter student name: yashaswini KS\n",
      "Enter score 1:  95\n",
      "Enter score 2:  96\n",
      "Enter score 3:  100\n"
     ]
    },
    {
     "name": "stdout",
     "output_type": "stream",
     "text": [
      "pragathi BR 's average score:' 99.0\n",
      "prakruthi BR 's average score:' 99.0\n",
      "yashaswini KS 's average score:' 97.0\n"
     ]
    }
   ],
   "source": [
    "#program 11(bouns question)\n",
    "students = []\n",
    "for _ in range(3):\n",
    "    name = input(\"Enter student name:\")\n",
    "    scores = [float(input(f\"Enter score {i+1}: \")) for i in range(3)]\n",
    "    students.append([name, scores])\n",
    "for student in students:\n",
    "    avg = sum(student[1]) / 3\n",
    "    print(student[0], \"'s average score:'\",avg)"
   ]
  },
  {
   "cell_type": "code",
   "execution_count": null,
   "id": "65473aa0-d2c5-4fb6-81c0-f0702ef8139c",
   "metadata": {},
   "outputs": [],
   "source": [
    "\n"
   ]
  }
 ],
 "metadata": {
  "kernelspec": {
   "display_name": "Python 3 (ipykernel)",
   "language": "python",
   "name": "python3"
  },
  "language_info": {
   "codemirror_mode": {
    "name": "ipython",
    "version": 3
   },
   "file_extension": ".py",
   "mimetype": "text/x-python",
   "name": "python",
   "nbconvert_exporter": "python",
   "pygments_lexer": "ipython3",
   "version": "3.12.4"
  }
 },
 "nbformat": 4,
 "nbformat_minor": 5
}
